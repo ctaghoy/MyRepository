{
 "cells": [
  {
   "cell_type": "markdown",
   "id": "68a2d474",
   "metadata": {},
   "source": [
    "# Data Science Tools and Ecosystem"
   ]
  },
  {
   "cell_type": "markdown",
   "id": "4e924640",
   "metadata": {},
   "source": [
    "In this notebook, Data Science Tools and Ecosystem are summarized.\n"
   ]
  },
  {
   "cell_type": "markdown",
   "id": "02a1e513",
   "metadata": {},
   "source": [
    "## Author\n",
    "Christian Taghoy"
   ]
  },
  {
   "cell_type": "markdown",
   "id": "ae931519",
   "metadata": {},
   "source": [
    "***Objectives:***\n",
    "* List popular languages for Data Science\n",
    "* List of commonly used libraries\n",
    "* Some tools for Data Science\n",
    "* Examples of evaluating arithmetic expressions in Python\n",
    "* Some actual math expressions with output"
   ]
  },
  {
   "cell_type": "markdown",
   "id": "4afda008",
   "metadata": {},
   "source": [
    "Some of the popular languages that Data Scientists use are:\n",
    "1. Python  \n",
    "2. R  \n",
    "3. SQL  "
   ]
  },
  {
   "cell_type": "markdown",
   "id": "632062b8",
   "metadata": {},
   "source": [
    "Some of the commonly used libraries used by Data Scientists include:  \n",
    "1. Pandas  \n",
    "2. Scikit-learn  \n",
    "3. ggplot2"
   ]
  },
  {
   "cell_type": "markdown",
   "id": "87d7fb11",
   "metadata": {},
   "source": [
    "| Data Science Tools |\n",
    "|--------------------|\n",
    "|Jupyter Notebook    |\n",
    "|RStudio             |\n",
    "|Spyder              |"
   ]
  },
  {
   "cell_type": "markdown",
   "id": "e2f60679",
   "metadata": {},
   "source": [
    "### Below are a few examples of evaluating arithmetic expressions in Python\n",
    "\n",
    "##### Evaluate a simple arithmetic expression  \n",
    "```python\n",
    "result = eval(\"2 + 2\")  \n",
    "print(result)  \n",
    "\n",
    "Output: 4   \n",
    "```\n",
    "    \n",
    "##### Evaluate an expression with variables  \n",
    "```python\n",
    "x = 10  \n",
    "y = 20  \n",
    "result = eval(\"x + y\")  \n",
    "print(result)  \n",
    "\n",
    "Output: 30\n",
    "```\n",
    "##### Evaluate an expression with a function call  \n",
    "```python\n",
    "import math  \n",
    "result = eval(\"math.sqrt(25)\")  \n",
    "print(result)  \n",
    "\n",
    "Output: 5.0\n",
    "```\n"
   ]
  },
  {
   "cell_type": "code",
   "execution_count": 1,
   "id": "482aafbe",
   "metadata": {},
   "outputs": [
    {
     "data": {
      "text/plain": [
       "17"
      ]
     },
     "execution_count": 1,
     "metadata": {},
     "output_type": "execute_result"
    }
   ],
   "source": [
    "# This a simple arithmetic expression to mutiply then add integers.\n",
    "(3*4)+5"
   ]
  },
  {
   "cell_type": "code",
   "execution_count": 2,
   "id": "91ff58bb",
   "metadata": {},
   "outputs": [
    {
     "data": {
      "text/plain": [
       "3.3333333333333335"
      ]
     },
     "execution_count": 2,
     "metadata": {},
     "output_type": "execute_result"
    }
   ],
   "source": [
    "# This will convert 200 minutes to hours by diving by 60.\n",
    "200 / 60"
   ]
  },
  {
   "cell_type": "code",
   "execution_count": null,
   "id": "04a4df3c",
   "metadata": {},
   "outputs": [],
   "source": []
  }
 ],
 "metadata": {
  "kernelspec": {
   "display_name": "Python 3 (ipykernel)",
   "language": "python",
   "name": "python3"
  },
  "language_info": {
   "codemirror_mode": {
    "name": "ipython",
    "version": 3
   },
   "file_extension": ".py",
   "mimetype": "text/x-python",
   "name": "python",
   "nbconvert_exporter": "python",
   "pygments_lexer": "ipython3",
   "version": "3.11.4"
  }
 },
 "nbformat": 4,
 "nbformat_minor": 5
}
